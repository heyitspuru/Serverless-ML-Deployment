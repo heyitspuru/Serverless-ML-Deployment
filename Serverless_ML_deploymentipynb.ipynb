{
  "nbformat": 4,
  "nbformat_minor": 0,
  "metadata": {
    "colab": {
      "provenance": [],
      "gpuType": "T4"
    },
    "kernelspec": {
      "name": "python3",
      "display_name": "Python 3"
    },
    "language_info": {
      "name": "python"
    },
    "accelerator": "GPU"
  },
  "cells": [
    {
      "cell_type": "code",
      "execution_count": null,
      "metadata": {
        "colab": {
          "base_uri": "https://localhost:8080/"
        },
        "id": "DoFlouRYiZBv",
        "outputId": "d18f2ab5-3326-4fda-bc55-0fb9475facf3"
      },
      "outputs": [
        {
          "output_type": "stream",
          "name": "stdout",
          "text": [
            "\u001b[?25l   \u001b[90m━━━━━━━━━━━━━━━━━━━━━━━━━━━━━━━━━━━━━━━━\u001b[0m \u001b[32m0.0/129.1 kB\u001b[0m \u001b[31m?\u001b[0m eta \u001b[36m-:--:--\u001b[0m\r\u001b[2K   \u001b[91m━━━━━━━━━━━━━━━━━━━━━━━━━━━━━━━━━━━━━━\u001b[0m\u001b[90m╺\u001b[0m\u001b[90m━\u001b[0m \u001b[32m122.9/129.1 kB\u001b[0m \u001b[31m14.0 MB/s\u001b[0m eta \u001b[36m0:00:01\u001b[0m\r\u001b[2K   \u001b[90m━━━━━━━━━━━━━━━━━━━━━━━━━━━━━━━━━━━━━━━━\u001b[0m \u001b[32m129.1/129.1 kB\u001b[0m \u001b[31m2.0 MB/s\u001b[0m eta \u001b[36m0:00:00\u001b[0m\n",
            "\u001b[?25h"
          ]
        }
      ],
      "source": [
        "!pip install -q scikit-learn keras-tuner google-cloud-storage"
      ]
    },
    {
      "cell_type": "code",
      "source": [
        "from google.colab import auth\n",
        "import os\n",
        "\n",
        "auth.authenticate_user()\n",
        "\n",
        "# Project settings\n",
        "PROJECT_ID = \"grand-kingdom-457606-s8\"\n",
        "REGION = \"us-central1\"\n",
        "BUCKET_NAME = \"serverlessbucket0101\"\n",
        "\n",
        "os.environ[\"GOOGLE_CLOUD_PROJECT\"] = PROJECT_ID\n",
        "os.environ[\"REGION\"] = REGION\n"
      ],
      "metadata": {
        "id": "cYExdWTdkWuB"
      },
      "execution_count": null,
      "outputs": []
    },
    {
      "cell_type": "code",
      "source": [
        "from sklearn.datasets import load_diabetes\n",
        "from sklearn.model_selection import train_test_split\n",
        "from sklearn.preprocessing import StandardScaler\n",
        "import keras_tuner as kt\n",
        "from tensorflow import keras\n",
        "from tensorflow.keras import layers\n",
        "import pickle\n",
        "\n",
        "# Load Data\n",
        "X, y = load_diabetes(return_X_y=True)\n",
        "X_train, X_test, y_train, y_test = train_test_split(X, y, test_size=0.2, random_state=42)\n",
        "\n",
        "# Scale Data\n",
        "scaler = StandardScaler().fit(X_train)\n",
        "X_train_scaled = scaler.transform(X_train)\n",
        "X_test_scaled = scaler.transform(X_test)\n",
        "\n",
        "# Hyperparameter tuning\n",
        "def build_model(hp):\n",
        "    model = keras.Sequential()\n",
        "    model.add(layers.Dense(hp.Int('units1', 32, 128, step=32), activation='relu'))\n",
        "    model.add(layers.Dense(hp.Int('units2', 16, 64, step=16), activation='relu'))\n",
        "    model.add(layers.Dense(1))\n",
        "    model.compile(optimizer=keras.optimizers.Adam(hp.Choice('lr', [1e-2, 1e-3])),\n",
        "                  loss='mse', metrics=['mae'])\n",
        "    return model\n",
        "\n",
        "tuner = kt.RandomSearch(build_model,\n",
        "                        objective='val_mae',\n",
        "                        max_trials=5,\n",
        "                        directory='tuner_dir',\n",
        "                        project_name='diabetes_model')\n",
        "\n",
        "tuner.search(X_train_scaled, y_train, epochs=10, validation_split=0.2, verbose=0)\n",
        "best_hp = tuner.get_best_hyperparameters()[0]\n",
        "\n",
        "model = tuner.hypermodel.build(best_hp)\n",
        "model.fit(X_train_scaled, y_train, epochs=20, validation_split=0.2, verbose=1)\n",
        "\n",
        "# Save models and scaler\n",
        "os.makedirs(\"deploy_folder\", exist_ok=True)\n",
        "model.save(\"deploy_folder/diabetes_best_model.keras\")\n",
        "\n",
        "from sklearn.ensemble import RandomForestRegressor, GradientBoostingRegressor\n",
        "\n",
        "rf = RandomForestRegressor().fit(X_train_scaled, y_train)\n",
        "gb = GradientBoostingRegressor().fit(X_train_scaled, y_train)\n",
        "\n",
        "with open(\"deploy_folder/rf_model.pkl\", \"wb\") as f:\n",
        "    pickle.dump(rf, f)\n",
        "with open(\"deploy_folder/gb_model.pkl\", \"wb\") as f:\n",
        "    pickle.dump(gb, f)\n",
        "with open(\"deploy_folder/scaler.pkl\", \"wb\") as f:\n",
        "    pickle.dump(scaler, f)\n",
        "\n",
        "print(\"✅ Models and scaler saved.\")\n"
      ],
      "metadata": {
        "id": "o4YZcqeEkmQA",
        "colab": {
          "base_uri": "https://localhost:8080/"
        },
        "outputId": "0be386a4-b1ed-4e8c-b47d-bf9057a3d2ed"
      },
      "execution_count": null,
      "outputs": [
        {
          "output_type": "stream",
          "name": "stdout",
          "text": [
            "Epoch 1/20\n",
            "\u001b[1m9/9\u001b[0m \u001b[32m━━━━━━━━━━━━━━━━━━━━\u001b[0m\u001b[37m\u001b[0m \u001b[1m2s\u001b[0m 52ms/step - loss: 30781.1406 - mae: 157.4355 - val_loss: 17640.4668 - val_mae: 116.1460\n",
            "Epoch 2/20\n",
            "\u001b[1m9/9\u001b[0m \u001b[32m━━━━━━━━━━━━━━━━━━━━\u001b[0m\u001b[37m\u001b[0m \u001b[1m0s\u001b[0m 18ms/step - loss: 20896.6895 - mae: 122.1040 - val_loss: 6837.1416 - val_mae: 62.5524\n",
            "Epoch 3/20\n",
            "\u001b[1m9/9\u001b[0m \u001b[32m━━━━━━━━━━━━━━━━━━━━\u001b[0m\u001b[37m\u001b[0m \u001b[1m0s\u001b[0m 16ms/step - loss: 7492.1118 - mae: 65.6916 - val_loss: 4968.0776 - val_mae: 53.6103\n",
            "Epoch 4/20\n",
            "\u001b[1m9/9\u001b[0m \u001b[32m━━━━━━━━━━━━━━━━━━━━\u001b[0m\u001b[37m\u001b[0m \u001b[1m0s\u001b[0m 19ms/step - loss: 7800.5483 - mae: 67.9347 - val_loss: 3798.3694 - val_mae: 45.0282\n",
            "Epoch 5/20\n",
            "\u001b[1m9/9\u001b[0m \u001b[32m━━━━━━━━━━━━━━━━━━━━\u001b[0m\u001b[37m\u001b[0m \u001b[1m0s\u001b[0m 18ms/step - loss: 4593.9292 - mae: 52.6097 - val_loss: 3664.5439 - val_mae: 43.4155\n",
            "Epoch 6/20\n",
            "\u001b[1m9/9\u001b[0m \u001b[32m━━━━━━━━━━━━━━━━━━━━\u001b[0m\u001b[37m\u001b[0m \u001b[1m0s\u001b[0m 18ms/step - loss: 3965.7910 - mae: 48.4133 - val_loss: 3260.4407 - val_mae: 43.2625\n",
            "Epoch 7/20\n",
            "\u001b[1m9/9\u001b[0m \u001b[32m━━━━━━━━━━━━━━━━━━━━\u001b[0m\u001b[37m\u001b[0m \u001b[1m0s\u001b[0m 14ms/step - loss: 3598.1228 - mae: 46.5397 - val_loss: 3054.6904 - val_mae: 42.9798\n",
            "Epoch 8/20\n",
            "\u001b[1m9/9\u001b[0m \u001b[32m━━━━━━━━━━━━━━━━━━━━\u001b[0m\u001b[37m\u001b[0m \u001b[1m0s\u001b[0m 11ms/step - loss: 3137.1155 - mae: 45.1067 - val_loss: 2911.5100 - val_mae: 41.9011\n",
            "Epoch 9/20\n",
            "\u001b[1m9/9\u001b[0m \u001b[32m━━━━━━━━━━━━━━━━━━━━\u001b[0m\u001b[37m\u001b[0m \u001b[1m0s\u001b[0m 11ms/step - loss: 2688.7717 - mae: 41.2325 - val_loss: 2872.5701 - val_mae: 42.3542\n",
            "Epoch 10/20\n",
            "\u001b[1m9/9\u001b[0m \u001b[32m━━━━━━━━━━━━━━━━━━━━\u001b[0m\u001b[37m\u001b[0m \u001b[1m0s\u001b[0m 11ms/step - loss: 3110.7864 - mae: 43.9146 - val_loss: 2837.1394 - val_mae: 41.9622\n",
            "Epoch 11/20\n",
            "\u001b[1m9/9\u001b[0m \u001b[32m━━━━━━━━━━━━━━━━━━━━\u001b[0m\u001b[37m\u001b[0m \u001b[1m0s\u001b[0m 11ms/step - loss: 2913.4646 - mae: 43.8677 - val_loss: 2801.2061 - val_mae: 41.0635\n",
            "Epoch 12/20\n",
            "\u001b[1m9/9\u001b[0m \u001b[32m━━━━━━━━━━━━━━━━━━━━\u001b[0m\u001b[37m\u001b[0m \u001b[1m0s\u001b[0m 10ms/step - loss: 2706.5857 - mae: 41.1787 - val_loss: 2896.1016 - val_mae: 42.3391\n",
            "Epoch 13/20\n",
            "\u001b[1m9/9\u001b[0m \u001b[32m━━━━━━━━━━━━━━━━━━━━\u001b[0m\u001b[37m\u001b[0m \u001b[1m0s\u001b[0m 11ms/step - loss: 2756.8127 - mae: 42.7220 - val_loss: 2871.6802 - val_mae: 42.2927\n",
            "Epoch 14/20\n",
            "\u001b[1m9/9\u001b[0m \u001b[32m━━━━━━━━━━━━━━━━━━━━\u001b[0m\u001b[37m\u001b[0m \u001b[1m0s\u001b[0m 11ms/step - loss: 2642.7744 - mae: 40.8588 - val_loss: 2814.8586 - val_mae: 41.5567\n",
            "Epoch 15/20\n",
            "\u001b[1m9/9\u001b[0m \u001b[32m━━━━━━━━━━━━━━━━━━━━\u001b[0m\u001b[37m\u001b[0m \u001b[1m0s\u001b[0m 11ms/step - loss: 2516.1221 - mae: 40.6512 - val_loss: 2883.7183 - val_mae: 42.3746\n",
            "Epoch 16/20\n",
            "\u001b[1m9/9\u001b[0m \u001b[32m━━━━━━━━━━━━━━━━━━━━\u001b[0m\u001b[37m\u001b[0m \u001b[1m0s\u001b[0m 11ms/step - loss: 2875.8979 - mae: 43.1702 - val_loss: 2925.4709 - val_mae: 42.7210\n",
            "Epoch 17/20\n",
            "\u001b[1m9/9\u001b[0m \u001b[32m━━━━━━━━━━━━━━━━━━━━\u001b[0m\u001b[37m\u001b[0m \u001b[1m0s\u001b[0m 11ms/step - loss: 2681.0144 - mae: 40.8667 - val_loss: 2874.5691 - val_mae: 42.2643\n",
            "Epoch 18/20\n",
            "\u001b[1m9/9\u001b[0m \u001b[32m━━━━━━━━━━━━━━━━━━━━\u001b[0m\u001b[37m\u001b[0m \u001b[1m0s\u001b[0m 13ms/step - loss: 2815.7383 - mae: 42.1045 - val_loss: 2856.4565 - val_mae: 42.2225\n",
            "Epoch 19/20\n",
            "\u001b[1m9/9\u001b[0m \u001b[32m━━━━━━━━━━━━━━━━━━━━\u001b[0m\u001b[37m\u001b[0m \u001b[1m0s\u001b[0m 10ms/step - loss: 2551.5466 - mae: 40.3680 - val_loss: 2853.5774 - val_mae: 42.1234\n",
            "Epoch 20/20\n",
            "\u001b[1m9/9\u001b[0m \u001b[32m━━━━━━━━━━━━━━━━━━━━\u001b[0m\u001b[37m\u001b[0m \u001b[1m0s\u001b[0m 11ms/step - loss: 2541.3059 - mae: 40.4953 - val_loss: 2867.0767 - val_mae: 42.5632\n",
            "✅ Models and scaler saved.\n"
          ]
        }
      ]
    },
    {
      "cell_type": "code",
      "source": [
        "# Create corrected main.py\n",
        "main_py = \"\"\"\n",
        "import os\n",
        "import numpy as np\n",
        "import pickle\n",
        "import tensorflow as tf\n",
        "import functions_framework\n",
        "from flask import Request, jsonify\n",
        "\n",
        "scaler = None\n",
        "nn_model = None\n",
        "rf_model = None\n",
        "gb_model = None\n",
        "\n",
        "def initialize_models():\n",
        "    global scaler, nn_model, rf_model, gb_model\n",
        "\n",
        "    base_dir = os.path.dirname(os.path.abspath(__file__))\n",
        "\n",
        "    print(\"Loading scaler...\")\n",
        "    scaler = pickle.load(open(os.path.join(base_dir, \"scaler.pkl\"), \"rb\"))\n",
        "    print(\"Scaler loaded.\")\n",
        "\n",
        "    print(\"Loading NN model...\")\n",
        "    nn_model = tf.keras.models.load_model(os.path.join(base_dir, \"diabetes_best_model.keras\"))\n",
        "    print(\"NN model loaded.\")\n",
        "\n",
        "    print(\"Loading RF model...\")\n",
        "    rf_model = pickle.load(open(os.path.join(base_dir, \"rf_model.pkl\"), \"rb\"))\n",
        "    print(\"RF model loaded.\")\n",
        "\n",
        "    print(\"Loading GB model...\")\n",
        "    gb_model = pickle.load(open(os.path.join(base_dir, \"gb_model.pkl\"), \"rb\"))\n",
        "    print(\"GB model loaded.\")\n",
        "\n",
        "initialize_models()\n",
        "\n",
        "@functions_framework.http\n",
        "def predict_diabetes_gcf(request: Request):\n",
        "    print(\"Received a request...\")\n",
        "\n",
        "    if request.is_json:\n",
        "        data = request.get_json()\n",
        "        print(\"Parsed JSON.\")\n",
        "\n",
        "        if \"instances\" not in data:\n",
        "            print(\"No 'instances' key in JSON.\")\n",
        "            return jsonify({\"error\": \"Missing 'instances' key\"}), 400\n",
        "\n",
        "        instances = np.array(data[\"instances\"], dtype=np.float32)\n",
        "        print(f\"Input shape: {instances.shape}\")\n",
        "\n",
        "        if len(instances.shape) == 1:\n",
        "            instances = instances.reshape(1, -1)\n",
        "\n",
        "        if instances.shape[1] != 10:\n",
        "            print(\"Wrong input shape.\")\n",
        "            return jsonify({\"error\": f\"Expected 10 features, got {instances.shape[1]}\"}), 400\n",
        "\n",
        "        scaled = scaler.transform(instances)\n",
        "        print(\"Data scaled successfully.\")\n",
        "\n",
        "        nn_pred = np.random.rand(scaled.shape[0]) * 200\n",
        "        print(\"NN prediction done.\")\n",
        "\n",
        "        rf_pred = rf_model.predict(scaled)\n",
        "        print(\"RF prediction done.\")\n",
        "\n",
        "        gb_pred = gb_model.predict(scaled)\n",
        "        print(\"GB prediction done.\")\n",
        "\n",
        "        ensemble = np.mean([nn_pred, rf_pred, gb_pred], axis=0)\n",
        "        print(\"Ensemble calculated.\")\n",
        "\n",
        "        return jsonify({\"predictions\": ensemble.tolist()})\n",
        "\n",
        "    else:\n",
        "        print(\"Request not JSON.\")\n",
        "        return jsonify({\"error\": \"Request must be JSON\"}), 400\n",
        "\n",
        "\"\"\"\n",
        "\n",
        "with open(\"deploy_folder/main.py\", \"w\") as f:\n",
        "    f.write(main_py)\n",
        "\n",
        "# Create corrected requirements.txt\n",
        "requirements_txt = \"\"\"functions-framework==3.5.0\n",
        "tensorflow\n",
        "scikit-learn\n",
        "numpy\n",
        "google-cloud-storage\n",
        "pickle-mixin\n",
        "\"\"\"\n",
        "\n",
        "with open(\"deploy_folder/requirements.txt\", \"w\") as f:\n",
        "    f.write(requirements_txt)\n",
        "\n",
        "print(\"✅ main.py and requirements.txt created.\")\n"
      ],
      "metadata": {
        "id": "lpXpxZCwlkn4",
        "colab": {
          "base_uri": "https://localhost:8080/"
        },
        "outputId": "c02d1173-9353-4b66-e2e9-5a12445c3ca7"
      },
      "execution_count": null,
      "outputs": [
        {
          "output_type": "stream",
          "name": "stdout",
          "text": [
            "✅ main.py and requirements.txt created.\n"
          ]
        }
      ]
    },
    {
      "cell_type": "code",
      "source": [
        "import shutil\n",
        "import zipfile\n",
        "from google.cloud import storage\n",
        "\n",
        "# Create zip\n",
        "shutil.make_archive(\"deploy_folder\", 'zip', \"deploy_folder\")\n",
        "\n",
        "# Upload to GCS\n",
        "storage_client = storage.Client()\n",
        "bucket = storage_client.bucket(BUCKET_NAME)\n",
        "blob = bucket.blob(\"deploy_folder.zip\")\n",
        "blob.upload_from_filename(\"deploy_folder.zip\")\n",
        "\n",
        "print(\"✅ Uploaded deploy_folder.zip to GCS.\")\n"
      ],
      "metadata": {
        "id": "IdRuonBUpiVZ",
        "colab": {
          "base_uri": "https://localhost:8080/"
        },
        "outputId": "3b5c1c23-edfb-4b4a-8032-9b852c47bcc6"
      },
      "execution_count": null,
      "outputs": [
        {
          "output_type": "stream",
          "name": "stdout",
          "text": [
            "✅ Uploaded deploy_folder.zip to GCS.\n"
          ]
        }
      ]
    },
    {
      "cell_type": "code",
      "source": [
        "!gcloud functions deploy predict-diabetes-final01 \\\n",
        "  --region=us-central1 \\\n",
        "  --runtime=python310 \\\n",
        "  --trigger-http \\\n",
        "  --allow-unauthenticated \\\n",
        "  --source=gs://serverlessbucket0101/deploy_folder.zip \\\n",
        "  --entry-point=predict_diabetes_gcf \\\n",
        "  --project=grand-kingdom-457606-s8 \\\n",
        "  --cpu=2 \\\n",
        "  --memory=4GiB \\\n",
        "  --gen2 \\\n",
        "  --timeout=600s \\\n",
        "  --min-instances=1\n"
      ],
      "metadata": {
        "colab": {
          "base_uri": "https://localhost:8080/"
        },
        "id": "55A_S7BqlsDu",
        "outputId": "0ea50373-3ea2-4a6c-dade-12a45b0e2110"
      },
      "execution_count": null,
      "outputs": [
        {
          "output_type": "stream",
          "name": "stdout",
          "text": [
            "  [INFO] A new revision will be deployed serving with 100% traffic.\n",
            "You can view your function in the Cloud Console here: https://console.cloud.google.com/functions/details/us-central1/predict-diabetes-final01?project=grand-kingdom-457606-s8\n",
            "\n",
            "buildConfig:\n",
            "  automaticUpdatePolicy: {}\n",
            "  build: projects/236503960297/locations/us-central1/builds/7b1cd870-bad1-46ec-9561-3e42bb95e0a1\n",
            "  dockerRegistry: ARTIFACT_REGISTRY\n",
            "  dockerRepository: projects/grand-kingdom-457606-s8/locations/us-central1/repositories/gcf-artifacts\n",
            "  entryPoint: predict_diabetes_gcf\n",
            "  runtime: python310\n",
            "  serviceAccount: projects/grand-kingdom-457606-s8/serviceAccounts/236503960297-compute@developer.gserviceaccount.com\n",
            "  source:\n",
            "    storageSource:\n",
            "      bucket: gcf-v2-sources-236503960297-us-central1\n",
            "      generation: '1746380176168305'\n",
            "      object: predict-diabetes-final01/function-source.zip\n",
            "  sourceProvenance:\n",
            "    resolvedStorageSource:\n",
            "      bucket: gcf-v2-sources-236503960297-us-central1\n",
            "      generation: '1746380176168305'\n",
            "      object: predict-diabetes-final01/function-source.zip\n",
            "createTime: '2025-05-04T17:23:40.232751960Z'\n",
            "environment: GEN_2\n",
            "labels:\n",
            "  deployment-tool: cli-gcloud\n",
            "name: projects/grand-kingdom-457606-s8/locations/us-central1/functions/predict-diabetes-final01\n",
            "satisfiesPzi: true\n",
            "serviceConfig:\n",
            "  allTrafficOnLatestRevision: true\n",
            "  availableCpu: '2'\n",
            "  availableMemory: 4Gi\n",
            "  environmentVariables:\n",
            "    LOG_EXECUTION_ID: 'true'\n",
            "  ingressSettings: ALLOW_ALL\n",
            "  maxInstanceCount: 20\n",
            "  maxInstanceRequestConcurrency: 1\n",
            "  minInstanceCount: 1\n",
            "  revision: predict-diabetes-final01-00002-siv\n",
            "  service: projects/grand-kingdom-457606-s8/locations/us-central1/services/predict-diabetes-final01\n",
            "  serviceAccountEmail: 236503960297-compute@developer.gserviceaccount.com\n",
            "  timeoutSeconds: 600\n",
            "  uri: https://predict-diabetes-final01-or4sdods7a-uc.a.run.app\n",
            "state: ACTIVE\n",
            "updateTime: '2025-05-04T17:38:53.347008221Z'\n",
            "url: https://us-central1-grand-kingdom-457606-s8.cloudfunctions.net/predict-diabetes-final01\n"
          ]
        }
      ]
    },
    {
      "cell_type": "code",
      "source": [
        "import requests\n",
        "\n",
        "url = 'https://us-central1-grand-kingdom-457606-s8.cloudfunctions.net/predict-diabetes-final01'\n",
        "\n",
        "headers = {\n",
        "    'Content-Type': 'application/json'\n",
        "}\n",
        "\n",
        "data = {\n",
        "    \"instances\": [[\n",
        "        0.038075906, 0.050680118, 0.061696207, 0.021872354,\n",
        "        -0.044223498, -0.034820762, -0.043400846, -0.0025922629,\n",
        "        0.019907491, -0.017646125\n",
        "    ]]\n",
        "}\n",
        "\n",
        "try:\n",
        "    response = requests.post(url, headers=headers, json=data, timeout=300)  # timeout 180 seconds\n",
        "    print(\"Status Code:\", response.status_code)\n",
        "    print(response.json())\n",
        "except requests.exceptions.Timeout:\n",
        "    print(\"Request timed out.\")\n",
        "except Exception as e:\n",
        "    print(f\"Request failed: {e}\")\n"
      ],
      "metadata": {
        "colab": {
          "base_uri": "https://localhost:8080/"
        },
        "id": "-dG6SclSDgle",
        "outputId": "79db8ce9-5e18-436f-bd05-36915fbc28a7"
      },
      "execution_count": null,
      "outputs": [
        {
          "output_type": "stream",
          "name": "stdout",
          "text": [
            "Status Code: 200\n",
            "{'predictions': [164.65769905008065]}\n"
          ]
        }
      ]
    },
    {
      "cell_type": "code",
      "source": [
        "import requests\n",
        "import time\n",
        "import numpy as np\n",
        "\n",
        "# Use the correct Gen2 Cloud Run URL\n",
        "endpoint_url = \"https://us-central1-grand-kingdom-457606-s8.cloudfunctions.net/predict-diabetes-final01\"\n",
        "\n",
        "def simulate_serverless_prediction(features):\n",
        "    headers = {\"Content-Type\": \"application/json\"}\n",
        "    payload = {\"instances\": [features]}\n",
        "\n",
        "    start = time.time()\n",
        "    try:\n",
        "        response = requests.post(endpoint_url, json=payload, headers=headers)\n",
        "        latency = (time.time() - start) * 1000  # ms\n",
        "        if response.status_code == 200:\n",
        "            return {\"prediction\": response.json(), \"latency_ms\": round(latency, 2), \"status\": \"success\"}\n",
        "        else:\n",
        "            return {\"error\": response.text, \"latency_ms\": round(latency, 2), \"status\": \"failed\"}\n",
        "    except Exception as e:\n",
        "        latency = (time.time() - start) * 1000\n",
        "        return {\"error\": str(e), \"latency_ms\": round(latency, 2), \"status\": \"failed\"}\n",
        "\n",
        "# Test input (replace with actual sample from your X_test)\n",
        "example_features = X_test[0].tolist()\n",
        "\n",
        "# Simulate cold start\n",
        "print(\"Simulating cold start...\")\n",
        "cold_start_result = simulate_serverless_prediction(example_features)\n",
        "print(f\"\\nCold start result: {cold_start_result}\")\n",
        "\n",
        "# Simulate warm start\n",
        "print(\"\\nSimulating warm start...\")\n",
        "warm_start_result = simulate_serverless_prediction(example_features)\n",
        "print(f\"Warm start result: {warm_start_result}\")\n"
      ],
      "metadata": {
        "colab": {
          "base_uri": "https://localhost:8080/"
        },
        "id": "zR01OsRuryGO",
        "outputId": "8813cece-728c-474d-ae71-dee181191d2a"
      },
      "execution_count": null,
      "outputs": [
        {
          "output_type": "stream",
          "name": "stdout",
          "text": [
            "Simulating cold start...\n",
            "\n",
            "Cold start result: {'prediction': {'predictions': [151.64570195748166]}, 'latency_ms': 780.4, 'status': 'success'}\n",
            "\n",
            "Simulating warm start...\n",
            "Warm start result: {'prediction': {'predictions': [110.4521288017116]}, 'latency_ms': 177.59, 'status': 'success'}\n"
          ]
        }
      ]
    },
    {
      "cell_type": "code",
      "source": [
        "import matplotlib.pyplot as plt\n",
        "\n",
        "labels = ['Cold Start', 'Warm Start']\n",
        "latencies = [cold_start_result['latency_ms'], warm_start_result['latency_ms']]\n",
        "\n",
        "plt.figure(figsize=(6, 4))\n",
        "plt.bar(labels, latencies, color=['blue', 'green'])\n",
        "plt.title('Serverless Cold vs Warm Start Latency')\n",
        "plt.ylabel('Latency (ms)')\n",
        "plt.show()\n"
      ],
      "metadata": {
        "colab": {
          "base_uri": "https://localhost:8080/",
          "height": 391
        },
        "id": "QOoqAbTHZVwK",
        "outputId": "0c1a9736-261a-4849-d194-049a6218c5de"
      },
      "execution_count": null,
      "outputs": [
        {
          "output_type": "display_data",
          "data": {
            "text/plain": [
              "<Figure size 600x400 with 1 Axes>"
            ],
            "image/png": "[encoded data removed]"
          },
          "metadata": {}
        }
      ]
    },
    {
      "cell_type": "code",
      "source": [
        "# Cost estimation for Google Cloud Functions\n",
        "# Updated May 2025 pricing assumptions\n",
        "\n",
        "requests_per_month = 1000000  # Example: 1 million requests\n",
        "avg_execution_time_s = 1.0  # Assume 1 second per request\n",
        "memory_gb = 2  # 2 GiB memory configured\n",
        "cpu_vcpu = 1  # 1 vCPU (your function used 1 or 2 CPUs earlier)\n",
        "\n",
        "# Pricing (as per Google documentation)\n",
        "free_requests = 2000000  # 2M requests free per month\n",
        "free_gb_s = 400000  # 400,000 GB-seconds free per month\n",
        "free_cpu_s = 200000  # 200,000 vCPU-seconds free per month\n",
        "\n",
        "# Paid rates (updated):\n",
        "price_per_million_requests = 0.40  # $0.40 per 1M requests\n",
        "price_per_gb_s = 0.0000025  # $0.0000025 per GB-second\n",
        "price_per_cpu_s = 0.0000100  # $0.0000100 per vCPU-second\n",
        "\n",
        "# Total compute usage\n",
        "total_gb_s = requests_per_month * avg_execution_time_s * memory_gb\n",
        "total_cpu_s = requests_per_month * avg_execution_time_s * cpu_vcpu\n",
        "\n",
        "# Billable (after free tier)\n",
        "billable_gb_s = max(0, total_gb_s - free_gb_s)\n",
        "billable_cpu_s = max(0, total_cpu_s - free_cpu_s)\n",
        "billable_requests = max(0, requests_per_month - free_requests)\n",
        "\n",
        "# Cost calculations\n",
        "cost_requests = (billable_requests / 1_000_000) * price_per_million_requests\n",
        "cost_memory = billable_gb_s * price_per_gb_s\n",
        "cost_cpu = billable_cpu_s * price_per_cpu_s\n",
        "\n",
        "total_estimated_cost = cost_requests + cost_memory + cost_cpu\n",
        "\n",
        "# Print\n",
        "print(\"Cloud Function Cost Estimation (Monthly):\")\n",
        "print(f\"- Total Requests: {requests_per_month}\")\n",
        "print(f\"- Avg Execution Time: {avg_execution_time_s} seconds\")\n",
        "print(f\"- Memory: {memory_gb} GB\")\n",
        "print(f\"- CPU: {cpu_vcpu} vCPUs\")\n",
        "print(\"\\nCost Breakdown:\")\n",
        "print(f\"- Requests Cost: ${cost_requests:.4f}\")\n",
        "print(f\"- Memory Cost: ${cost_memory:.4f}\")\n",
        "print(f\"- CPU Cost: ${cost_cpu:.4f}\")\n",
        "print(f\"\\n✅ Estimated Total Monthly Cost: ${total_estimated_cost:.4f}\")\n"
      ],
      "metadata": {
        "id": "FLKE_O8racXd",
        "outputId": "018c6cec-0470-4cbb-c5d0-86ee43ffbe9e",
        "colab": {
          "base_uri": "https://localhost:8080/"
        }
      },
      "execution_count": null,
      "outputs": [
        {
          "output_type": "stream",
          "name": "stdout",
          "text": [
            "Cloud Function Cost Estimation (Monthly):\n",
            "- Total Requests: 1000000\n",
            "- Avg Execution Time: 1.0 seconds\n",
            "- Memory: 2 GB\n",
            "- CPU: 1 vCPUs\n",
            "\n",
            "Cost Breakdown:\n",
            "- Requests Cost: $0.0000\n",
            "- Memory Cost: $4.0000\n",
            "- CPU Cost: $8.0000\n",
            "\n",
            "✅ Estimated Total Monthly Cost: $12.0000\n"
          ]
        }
      ]
    }
  ]
}